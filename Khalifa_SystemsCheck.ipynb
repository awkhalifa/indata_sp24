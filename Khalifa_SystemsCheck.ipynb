{
 "cells": [
  {
   "cell_type": "markdown",
   "id": "88e3895b-e611-40a5-afc9-aad4e5be6d78",
   "metadata": {},
   "source": [
    "## I hope to understand better what I can use code for\n",
    "### Also so that I have knowledge when working with coders\n",
    "\n",
    "#### I see this being beneficial:\n",
    "1. For team projects\n",
    "2. For solo projects\n",
    "3. For class projects\n",
    "\n",
    "**I'm looking forward to expanding my skillset**\n",
    "\n",
    "*Hoping to include this on my resume too for future employers*"
   ]
  },
  {
   "cell_type": "markdown",
   "id": "08134e4d-e9d7-48f1-b828-53371242ec5f",
   "metadata": {},
   "source": [
    "[links](https://github.com/)"
   ]
  },
  {
   "cell_type": "markdown",
   "id": "03242914-898c-4054-8c38-d5841726adf8",
   "metadata": {},
   "source": [
    "![Image](https://hips.hearstapps.com/hmg-prod/images/neva-masquerade-royalty-free-image-1674509896.jpg?crop=1.00xw:0.824xh;0,0.0421xh&resize=1200:*)"
   ]
  },
  {
   "cell_type": "code",
   "execution_count": 1,
   "id": "18498d31-fec0-4a59-9389-48187b4ba267",
   "metadata": {},
   "outputs": [],
   "source": [
    "x = 5"
   ]
  },
  {
   "cell_type": "code",
   "execution_count": 2,
   "id": "31fedd2a-1628-4ded-abb4-4d557b4f0cf2",
   "metadata": {},
   "outputs": [
    {
     "data": {
      "text/plain": [
       "5"
      ]
     },
     "execution_count": 2,
     "metadata": {},
     "output_type": "execute_result"
    }
   ],
   "source": [
    "x"
   ]
  },
  {
   "cell_type": "code",
   "execution_count": 3,
   "id": "122d93f0-4f6d-4bfb-b14d-fb7183aaaddf",
   "metadata": {},
   "outputs": [
    {
     "name": "stdout",
     "output_type": "stream",
     "text": [
      "5\n"
     ]
    }
   ],
   "source": [
    "print(x)"
   ]
  },
  {
   "cell_type": "code",
   "execution_count": 6,
   "id": "8651daa1-5f0b-4a15-971c-94d0d200479b",
   "metadata": {},
   "outputs": [
    {
     "name": "stdout",
     "output_type": "stream",
     "text": [
      "1\n",
      "2\n",
      "3\n",
      "4\n",
      "5\n"
     ]
    }
   ],
   "source": [
    "for i in [1,2,3,4]:\n",
    "    print(i)\n",
    "    \n",
    "for i in [x]:\n",
    "    print(i)"
   ]
  },
  {
   "cell_type": "code",
   "execution_count": 16,
   "id": "92fa25ea-60d2-4692-9a26-ae8fa8ebdc62",
   "metadata": {},
   "outputs": [],
   "source": [
    "def say_hello(x):\n",
    "    print(\"hello \" + str(x))"
   ]
  },
  {
   "cell_type": "code",
   "execution_count": 17,
   "id": "83953ce5-d737-4b4b-aa4e-0f91c5742735",
   "metadata": {},
   "outputs": [
    {
     "name": "stdout",
     "output_type": "stream",
     "text": [
      "hello Alizeh\n"
     ]
    }
   ],
   "source": [
    "say_hello(\"Alizeh\")"
   ]
  },
  {
   "cell_type": "code",
   "execution_count": 14,
   "id": "56496266-b1df-49b6-94ec-aaeba91a8cdb",
   "metadata": {},
   "outputs": [],
   "source": [
    "def return_hello(x):\n",
    "    y = \"hello \" + x\n",
    "    return y"
   ]
  },
  {
   "cell_type": "code",
   "execution_count": 18,
   "id": "5fe3184a-27ab-402e-a813-9057ebecb5cf",
   "metadata": {},
   "outputs": [],
   "source": [
    "greetings = return_hello(\"Alizeh\")"
   ]
  },
  {
   "cell_type": "code",
   "execution_count": 19,
   "id": "47a37ed9-c056-4c74-a63b-93c6b33b598d",
   "metadata": {},
   "outputs": [
    {
     "data": {
      "text/plain": [
       "'hello Alizeh'"
      ]
     },
     "execution_count": 19,
     "metadata": {},
     "output_type": "execute_result"
    }
   ],
   "source": [
    "greetings"
   ]
  }
 ],
 "metadata": {
  "kernelspec": {
   "display_name": "Python 3 (ipykernel)",
   "language": "python",
   "name": "python3"
  },
  "language_info": {
   "codemirror_mode": {
    "name": "ipython",
    "version": 3
   },
   "file_extension": ".py",
   "mimetype": "text/x-python",
   "name": "python",
   "nbconvert_exporter": "python",
   "pygments_lexer": "ipython3",
   "version": "3.12.1"
  }
 },
 "nbformat": 4,
 "nbformat_minor": 5
}
