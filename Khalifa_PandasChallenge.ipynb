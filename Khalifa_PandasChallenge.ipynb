{
 "cells": [
  {
   "cell_type": "code",
   "execution_count": 1,
   "id": "50c8e260-c78e-4890-a4b2-e67f3637370e",
   "metadata": {},
   "outputs": [],
   "source": [
    "import pandas as pd"
   ]
  },
  {
   "cell_type": "code",
   "execution_count": 2,
   "id": "6ff51608-da68-4d1d-8bea-53cde9a4a857",
   "metadata": {},
   "outputs": [
    {
     "data": {
      "text/plain": [
       "pandas.core.frame.DataFrame"
      ]
     },
     "execution_count": 2,
     "metadata": {},
     "output_type": "execute_result"
    }
   ],
   "source": [
    "pd.DataFrame"
   ]
  },
  {
   "cell_type": "code",
   "execution_count": 3,
   "id": "bf5896c7-d058-475c-bcc9-b6c1c09ccc04",
   "metadata": {},
   "outputs": [],
   "source": [
    "orca_data = {'Pod 1': [2, 5, 13], 'Pod 2': [3, 3, 7], 'Pod 3': [2, 14, 5]}"
   ]
  },
  {
   "cell_type": "code",
   "execution_count": 4,
   "id": "3a578411-a8d8-41b8-a5e0-8890a5773376",
   "metadata": {},
   "outputs": [
    {
     "data": {
      "text/html": [
       "<div>\n",
       "<style scoped>\n",
       "    .dataframe tbody tr th:only-of-type {\n",
       "        vertical-align: middle;\n",
       "    }\n",
       "\n",
       "    .dataframe tbody tr th {\n",
       "        vertical-align: top;\n",
       "    }\n",
       "\n",
       "    .dataframe thead th {\n",
       "        text-align: right;\n",
       "    }\n",
       "</style>\n",
       "<table border=\"1\" class=\"dataframe\">\n",
       "  <thead>\n",
       "    <tr style=\"text-align: right;\">\n",
       "      <th></th>\n",
       "      <th>Pod 1</th>\n",
       "      <th>Pod 2</th>\n",
       "      <th>Pod 3</th>\n",
       "    </tr>\n",
       "  </thead>\n",
       "  <tbody>\n",
       "    <tr>\n",
       "      <th>0</th>\n",
       "      <td>2</td>\n",
       "      <td>3</td>\n",
       "      <td>2</td>\n",
       "    </tr>\n",
       "    <tr>\n",
       "      <th>1</th>\n",
       "      <td>5</td>\n",
       "      <td>3</td>\n",
       "      <td>14</td>\n",
       "    </tr>\n",
       "    <tr>\n",
       "      <th>2</th>\n",
       "      <td>13</td>\n",
       "      <td>7</td>\n",
       "      <td>5</td>\n",
       "    </tr>\n",
       "  </tbody>\n",
       "</table>\n",
       "</div>"
      ],
      "text/plain": [
       "   Pod 1  Pod 2  Pod 3\n",
       "0      2      3      2\n",
       "1      5      3     14\n",
       "2     13      7      5"
      ]
     },
     "execution_count": 4,
     "metadata": {},
     "output_type": "execute_result"
    }
   ],
   "source": [
    "df_orca = pd.DataFrame(orca_data)\n",
    "df_orca"
   ]
  },
  {
   "cell_type": "code",
   "execution_count": 5,
   "id": "a8c9b72a-e51f-44c0-abb2-f53f129ec726",
   "metadata": {},
   "outputs": [
    {
     "data": {
      "text/html": [
       "<div>\n",
       "<style scoped>\n",
       "    .dataframe tbody tr th:only-of-type {\n",
       "        vertical-align: middle;\n",
       "    }\n",
       "\n",
       "    .dataframe tbody tr th {\n",
       "        vertical-align: top;\n",
       "    }\n",
       "\n",
       "    .dataframe thead th {\n",
       "        text-align: right;\n",
       "    }\n",
       "</style>\n",
       "<table border=\"1\" class=\"dataframe\">\n",
       "  <thead>\n",
       "    <tr style=\"text-align: right;\">\n",
       "      <th></th>\n",
       "      <th>Pod 1</th>\n",
       "      <th>Pod 2</th>\n",
       "      <th>Pod 3</th>\n",
       "    </tr>\n",
       "  </thead>\n",
       "  <tbody>\n",
       "    <tr>\n",
       "      <th>0</th>\n",
       "      <td>2</td>\n",
       "      <td>3</td>\n",
       "      <td>2</td>\n",
       "    </tr>\n",
       "    <tr>\n",
       "      <th>1</th>\n",
       "      <td>5</td>\n",
       "      <td>3</td>\n",
       "      <td>14</td>\n",
       "    </tr>\n",
       "    <tr>\n",
       "      <th>2</th>\n",
       "      <td>13</td>\n",
       "      <td>7</td>\n",
       "      <td>5</td>\n",
       "    </tr>\n",
       "  </tbody>\n",
       "</table>\n",
       "</div>"
      ],
      "text/plain": [
       "   Pod 1  Pod 2  Pod 3\n",
       "0      2      3      2\n",
       "1      5      3     14\n",
       "2     13      7      5"
      ]
     },
     "execution_count": 5,
     "metadata": {},
     "output_type": "execute_result"
    }
   ],
   "source": [
    "df_orca.head()"
   ]
  },
  {
   "cell_type": "code",
   "execution_count": 7,
   "id": "97ae598e-f685-449f-b3f7-ffd7dba34196",
   "metadata": {},
   "outputs": [
    {
     "data": {
      "text/plain": [
       "RangeIndex(start=0, stop=3, step=1)"
      ]
     },
     "execution_count": 7,
     "metadata": {},
     "output_type": "execute_result"
    }
   ],
   "source": [
    "df_orca.index"
   ]
  },
  {
   "cell_type": "code",
   "execution_count": 10,
   "id": "f01a57f2-2f3c-4cbf-ad72-dcb7dc86e6a3",
   "metadata": {},
   "outputs": [
    {
     "data": {
      "text/plain": [
       "0     2\n",
       "1     5\n",
       "2    13\n",
       "Name: Pod 1, dtype: int64"
      ]
     },
     "execution_count": 10,
     "metadata": {},
     "output_type": "execute_result"
    }
   ],
   "source": [
    "df_orca['Pod 1']"
   ]
  },
  {
   "cell_type": "code",
   "execution_count": 18,
   "id": "4dcb6ffe-2ce2-474e-ac3d-16a143df3a57",
   "metadata": {},
   "outputs": [
    {
     "data": {
      "text/plain": [
       "Pod 1    2\n",
       "Pod 2    3\n",
       "Pod 3    2\n",
       "Name: 0, dtype: int64"
      ]
     },
     "execution_count": 18,
     "metadata": {},
     "output_type": "execute_result"
    }
   ],
   "source": [
    "df_orca.iloc[0]"
   ]
  },
  {
   "cell_type": "code",
   "execution_count": 20,
   "id": "8e213417-85e5-4dd2-8e31-4fa22589d37d",
   "metadata": {},
   "outputs": [],
   "source": [
    "df_orca.to_csv('df_orca.csv')"
   ]
  },
  {
   "cell_type": "code",
   "execution_count": 21,
   "id": "e01aa879-2abb-49ab-9660-f6f11f86ebf2",
   "metadata": {},
   "outputs": [
    {
     "name": "stdout",
     "output_type": "stream",
     "text": [
      "In Class 1.29.ipynb            cces_example_data.csv\n",
      "Khalifa_PandasChallenge.ipynb  df_orca.csv\n",
      "Khalifa_SystemsCheck.ipynb     subset_cces_example_data.csv\n",
      "Panda Practice.ipynb\n"
     ]
    }
   ],
   "source": [
    "ls"
   ]
  },
  {
   "cell_type": "markdown",
   "id": "2f4cb4e4-96ee-4c05-8b20-b51bc197ee14",
   "metadata": {},
   "source": [
    "**Why are dynamic, interactive data visualizations useful when communicating data?**\n",
    "\n",
    "Interactive data visualizations are useful when communicating data because they empower people to explore data for themselves. Following the mantra, these types of visuals allow viewers to gather an overview then explore further and really intake the information at their own pace. Along with making this data more engaging for others, it also makes it more accessible for different audiences. "
   ]
  }
 ],
 "metadata": {
  "kernelspec": {
   "display_name": "Python 3 (ipykernel)",
   "language": "python",
   "name": "python3"
  },
  "language_info": {
   "codemirror_mode": {
    "name": "ipython",
    "version": 3
   },
   "file_extension": ".py",
   "mimetype": "text/x-python",
   "name": "python",
   "nbconvert_exporter": "python",
   "pygments_lexer": "ipython3",
   "version": "3.12.1"
  }
 },
 "nbformat": 4,
 "nbformat_minor": 5
}
