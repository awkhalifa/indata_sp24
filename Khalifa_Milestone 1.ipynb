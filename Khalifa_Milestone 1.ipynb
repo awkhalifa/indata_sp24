{
 "cells": [
  {
   "cell_type": "code",
   "execution_count": 1,
   "id": "4bede025-50c1-4bc1-aef6-ef3a74b9d5b6",
   "metadata": {},
   "outputs": [],
   "source": [
    "import pandas as pd\n",
    "import plotly.express as px"
   ]
  },
  {
   "cell_type": "code",
   "execution_count": 8,
   "id": "eb970197-5ef1-4380-8eeb-fcb4310d5bd1",
   "metadata": {},
   "outputs": [],
   "source": [
    "spotify = pd.read_csv('Spotify Podcasts.csv')"
   ]
  },
  {
   "cell_type": "code",
   "execution_count": 9,
   "id": "1d8b885a-7382-4e13-a34b-a9b65322bb52",
   "metadata": {},
   "outputs": [],
   "source": [
    "rss = pd.read_csv('RSS LGAI.csv')"
   ]
  },
  {
   "cell_type": "code",
   "execution_count": null,
   "id": "52793f6a-46ac-4127-bdd4-9947d33f7376",
   "metadata": {},
   "outputs": [],
   "source": []
  }
 ],
 "metadata": {
  "kernelspec": {
   "display_name": "Python 3 (ipykernel)",
   "language": "python",
   "name": "python3"
  },
  "language_info": {
   "codemirror_mode": {
    "name": "ipython",
    "version": 3
   },
   "file_extension": ".py",
   "mimetype": "text/x-python",
   "name": "python",
   "nbconvert_exporter": "python",
   "pygments_lexer": "ipython3",
   "version": "3.12.1"
  }
 },
 "nbformat": 4,
 "nbformat_minor": 5
}
